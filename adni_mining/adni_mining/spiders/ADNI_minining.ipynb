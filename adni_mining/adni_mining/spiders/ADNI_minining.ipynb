{
 "cells": [
  {
   "cell_type": "code",
   "execution_count": 1,
   "metadata": {
    "scrolled": true
   },
   "outputs": [],
   "source": [
    "import scrapy\n",
    "from scrapy.crawler import CrawlerRunner\n",
    "from twisted.internet import reactor as rt, defer\n",
    "from getpass import getpass\n",
    "from ipdb import set_trace\n",
    "from scrapy.utils.response import open_in_browser as oib\n",
    "\n",
    "class ADNISpider(scrapy.Spider):\n",
    "    name = 'adni'\n",
    "    login_url = 'https://ida.loni.usc.edu/login.jsp?project=ADNI'\n",
    "    adv_search_url = 'https://ida.loni.usc.edu/pages/access/search.jsp?advSearch'\n",
    "    \n",
    "    def login(self, res):\n",
    "        print(f'parsing login {res.url}')\n",
    "        csrf = res.xpath('//*[@name=\"csrf_token\"]/@value').extract_first()\n",
    "        \n",
    "        self.email = input('adni email')\n",
    "        self.password = getpass('adni password')\n",
    "        \n",
    "        req = crapy.FormRequest.from_response(res, formdata={\n",
    "            'userEmail': self.email,\n",
    "            'userPassword': self.password,\n",
    "        }, callback=self.adv_tab)\n",
    "        yield req\n",
    "        \n",
    "    def adv_tab(self, res):\n",
    "        print(f'parsing main page {res.url}')\n",
    "        self.img_url = str(res.body).split('\">Image Collections')[0].split('\"')[-1]\n",
    "        set_trace()\n",
    "        yield scrapy.Request(f'{self.img_url}#tab4', callback=self.parse_search_res)\n",
    "    \n",
    "    def parse_search_res(self, res):\n",
    "        print(f'parsing adv_search page {res.url}')\n",
    "        oib(res)\n",
    "        yield scrapy.FormRequest.from_response(res, formdata={\n",
    "            'tab': 'advResult',\n",
    "            'subjectOption': 'true',\n",
    "            'visitOption': 'true',\n",
    "            'imageModalityOption': 'true',\n",
    "            'imgType': '4',\n",
    "            'advOrderBy1': 'SUBJECT_ID',\n",
    "            'advOrderBy2': '',\n",
    "            'project_checkBox': 'ADNI',\n",
    "            'projectPhase_checkBox': 'ADNI_1',\n",
    "            'projectPhase_checkBox': 'ADNI_2',\n",
    "            'projectPhase_checkBox': 'ADNI_3',\n",
    "            'projectPhase_checkBox': 'ADNI_4',\n",
    "            'advSubjectId': '',\n",
    "            'displayInResult': 'SUBJECT.SUBJECT_ID',\n",
    "            'advAgeMenu': 'equals',\n",
    "            'advAge_textBox': '',\n",
    "            'displayInResult': 'SUBJECT.AGE',\n",
    "            'advSex': 'OTHER',\n",
    "            'displayInResult': 'SUBJECT.SUBJECT_SEX',\n",
    "            'advWeightMenu': 'equals',\n",
    "            'weight_textBox': '',\n",
    "            'researchGroup_checkBox': '31',\n",
    "            'advStudyDate': '',\n",
    "            'advStudyDate': '',\n",
    "            'archiveDate': '',\n",
    "            'archiveDate': '',\n",
    "            'visit_andOr_ADNI': 'OR',\n",
    "            'imgDesc': 'FreeSurfer Cross-Sectional Processing brainmask',\n",
    "            'imgId': '',\n",
    "            'imgModality_checkBox': '1',\n",
    "            'imgModality_andOr': 'OR',\n",
    "            'imgProtocol_1_Field_Strength_Menu': 'equals',\n",
    "            'imgProtocol_1_Field_Strength_textBox': '',\n",
    "            'imgProtocol_1_Matrix_Z_Menu': 'equals',\n",
    "            'imgProtocol_1_Matrix_Z_textBox': '',\n",
    "            'imgProtocol_1_Slice_Thickness_Menu': 'equals',\n",
    "        }, formname='advancedQuery', clickdata={'id': 'advSearchQuery', 'nr': 1}, callback=self.parse_brain_lst)\n",
    "    \n",
    "    def parse_brain_lst(self, res):\n",
    "        print(f'parsing brain list {res.url}')\n",
    "        oib(res)\n",
    "        \n",
    "    def start_requests(self):\n",
    "        yield scrapy.Request(self.login_url, callback=self.login)\n",
    "            \n",
    "runner = CrawlerRunner()"
   ]
  },
  {
   "cell_type": "code",
   "execution_count": null,
   "metadata": {},
   "outputs": [
    {
     "name": "stdout",
     "output_type": "stream",
     "text": [
      "parsing login https://ida.loni.usc.edu/login.jsp?project=ADNI\n",
      "adni emailshx26@pitt.edu\n",
      "adni password········\n"
     ]
    }
   ],
   "source": [
    "runner.crawl(ADNISpider)\n",
    "d = runner.join()\n",
    "d.addBoth(lambda _: reactor.stop())\n",
    "rt.run()"
   ]
  },
  {
   "cell_type": "code",
   "execution_count": null,
   "metadata": {},
   "outputs": [],
   "source": [
    "cookies_str = 'PROJECT_SECTION=true; PROJECT_SPECIFIC_SECTION=false; SUBJECT_SECTION=true; ASSESSMENT_SECTION=false; IMG_TYPE_PRE_PROCESS_SECTION=false; MODALITY_SECTION=true; PROTOCOL_SECTION=false; QUALITY_SECTION=false; STATUS_SECTION=false; STUDY_VISIT_SECTION=true; ADV_QUERY=true; SORT_COLUMN=9; IS_FORWARD_SORT=true; PROCESSING_SECTION=false; IMG_TYPE_POST_PROCESS_SECTION=true; IMG_TYPE_ORIG_SECTION=false; _ga=GA1.2.1943246582.1596378396; _gid=GA1.2.1158153468.1600503883; __utmc=174947263; __utmz=174947263.1600666881.16.13.utmcsr=adni.loni.usc.edu|utmccn=(referral)|utmcmd=referral|utmcct=/data-samples/access-data/; __utma=174947263.1943246582.1596378396.1600671498.1600675019.18; __utmt=1; __utmb=174947263.23.10.1600675019'.split(';')\n",
    "cookies = {c.split('=')[0].strip(): c.split('=')[1].strip() for c in cookies_str}\n",
    "cookies"
   ]
  },
  {
   "cell_type": "markdown",
   "metadata": {},
   "source": []
  }
 ],
 "metadata": {
  "kernelspec": {
   "display_name": "Python 3",
   "language": "python",
   "name": "python3"
  },
  "language_info": {
   "codemirror_mode": {
    "name": "ipython",
    "version": 3
   },
   "file_extension": ".py",
   "mimetype": "text/x-python",
   "name": "python",
   "nbconvert_exporter": "python",
   "pygments_lexer": "ipython3",
   "version": "3.8.1"
  }
 },
 "nbformat": 4,
 "nbformat_minor": 4
}
