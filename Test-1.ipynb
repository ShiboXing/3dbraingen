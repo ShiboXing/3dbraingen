{
 "cells": [
  {
   "cell_type": "code",
   "execution_count": 1,
   "metadata": {
    "tags": []
   },
   "outputs": [
    {
     "name": "stdout",
     "output_type": "stream",
     "text": [
      "Populating the interactive namespace from numpy and matplotlib\n"
     ]
    }
   ],
   "source": [
    "%pylab inline\n",
    "import numpy as np\n",
    "import torch\n",
    "import os\n",
    "import time\n",
    "import pandas as pd\n",
    "import nibabel as nib\n",
    "\n",
    "from torch import nn\n",
    "from torch import optim\n",
    "from torch.nn import functional as F\n",
    "from torch import autograd\n",
    "from torch.autograd import Variable\n",
    "from torch.utils.data.dataset import Dataset\n",
    "from torch.utils.data import dataloader\n",
    "\n",
    "from sklearn.preprocessing import StandardScaler\n",
    "from nilearn import plotting\n",
    "from ADNI_dataset import *\n",
    "from BRATS_dataset import *\n",
    "from ATLAS_dataset import *\n",
    "from Model_alphaWGAN import *\n",
    "import pytorch_ssim\n",
    "import matplotlib.pyplot as plt\n",
    "from ipdb import set_trace\n",
    "from utils import *"
   ]
  },
  {
   "cell_type": "markdown",
   "metadata": {},
   "source": [
    "# Configuration"
   ]
  },
  {
   "cell_type": "code",
   "execution_count": 2,
   "metadata": {
    "scrolled": false
   },
   "outputs": [],
   "source": [
    "# used to store the MMD ans MS-SSIM\n",
    "try:\n",
    "    os.mkdir('./test_data')\n",
    "except FileExistsError:\n",
    "    pass\n",
    "workers = 4\n",
    "BATCH_SIZE = 8\n",
    "latent_dim = 1000\n",
    "\n",
    "Use_BRATS = False\n",
    "Use_ATLAS = False\n",
    "gpu = 0"
   ]
  },
  {
   "cell_type": "code",
   "execution_count": 3,
   "metadata": {
    "scrolled": false
   },
   "outputs": [],
   "source": [
    "trainset = ADNIdataset(augmentation=True)\n",
    "train_loader = torch.utils.data.DataLoader(trainset,batch_size=BATCH_SIZE,\n",
    "                                          shuffle=True,num_workers=workers)\n",
    "#'flair' or 't2' or 't1ce'\n",
    "# trainset = BRATSdataset(imgtype='flair')\n",
    "# train_loader = torch.utils.data.DataLoader(trainset,batch_size = BATCH_SIZE, shuffle=True,\n",
    "#                                                num_workers=workers)\n",
    "\n",
    "# trainset = ATLASdataset(augmentation=True)\n",
    "# train_loader = torch.utils.data.DataLoader(trainset,batch_size=BATCH_SIZE,\n",
    "#                                           shuffle=True,num_workers=workers)\n",
    "\n",
    "gen_load = inf_train_gen(train_loader)"
   ]
  },
  {
   "cell_type": "markdown",
   "metadata": {},
   "source": [
    "## Pre-trained Generator Load"
   ]
  },
  {
   "cell_type": "code",
   "execution_count": 4,
   "metadata": {
    "scrolled": false
   },
   "outputs": [],
   "source": [
    "#-------------------------------------------\n",
    "#Choose the Model you want!\n",
    "from Model_alphaWGAN import *\n",
    "# from Model_alphaWGAN import Discriminator\n",
    "# from Model_alphaGAN import Generator\n",
    "# from Model_VAEGAN import Generator\n",
    "# from Model_VAEGAN import Encoder\n",
    "# from Model_WGAN import Generator\n",
    "#-------------------------------------------\n",
    "\n",
    "G = Generator(noise=latent_dim).cuda(gpu)\n",
    "# E = Encoder(out_class = latent_dim).cuda(gpu)\n",
    "E = Discriminator(out_class = latent_dim, is_dis=False).cuda(gpu)\n",
    "#-----------------------\n",
    "#Load Pre-trained model\n",
    "#-----------------------\n",
    "\n",
    "#------------Trained Model of ADNI dataset---------------------\n",
    "# G.load_state_dict(torch.load('./checkpoint/G_iter188500.pth')) # Alpha-WGAN-GP\n",
    "# E.load_state_dict(torch.load('./trained/E_iter12500.pth')) # Alpha-WGAN-GP Encoder\n",
    "# G.load_state_dict(torch.load('./wl_checkpoint_2/G_iter200000.pth')) #VAE-GAN\n",
    "# G.load_state_dict(torch.load('./vae_checkpoint_1/G_VG_ep_46.pth')) #VAE-GAP\n",
    "# G.load_state_dict(torch.load('./vae_checkpoint_gp/G_iter29000.pth')) #Alpha-GAN\n",
    "# G.load_state_dict(torch.load('./checkpoint/G_W_iter3000.pth')) #WGAN-GP\n",
    "\n",
    "#------------Trained Model of ATLAS dataset---------------------\n",
    "# G.load_state_dict(torch.load('./checkpoint/Ours_at_G.pth'))\n",
    "\n",
    "#------------Trained Models of BRATS dataset---------------------\n",
    "# G.load_state_dict(torch.load('./checkpoint/Ours_fl_G.pth'))\n",
    "# G.load_state_dict(torch.load('./checkpoint/Ours_t2_G.pth'))"
   ]
  },
  {
   "cell_type": "markdown",
   "metadata": {},
   "source": [
    "Fake Image - slice series visualization\n",
    "\n",
    "You can change the axis (x , y , z ) by changing  display_mode = 'x' / 'y' / 'z'"
   ]
  },
  {
   "cell_type": "code",
   "execution_count": null,
   "metadata": {
    "scrolled": false
   },
   "outputs": [],
   "source": [
    "Show_color = False\n",
    "\n",
    "noise = torch.randn(1, latent_dim).cuda(gpu)\n",
    "fake_image = G(noise)\n",
    "featmask = np.squeeze(fake_image[0].data.cpu().numpy())\n",
    "featmask = nib.Nifti1Image(featmask,affine = np.eye(4))\n",
    "\n",
    "arr1 = [4,6,8,10,12,14,16,18,20,22,24,26,28,30,32]\n",
    "arr2 = [34,36,38,40,42,44,46,48,50,52,54,56,58,60]\n",
    "if Show_color:\n",
    "    disp = plotting.plot_img(featmask,cut_coords=arr1,draw_cross=False,annotate=False,black_bg=True,display_mode='x')\n",
    "    # disp.annotate(size=25,left_right=False,positions=True)\n",
    "    plotting.show()\n",
    "    disp=plotting.plot_img(featmask,cut_coords=arr2,draw_cross=False,annotate=False,black_bg=True,display_mode='x')\n",
    "    # disp.annotate(size=25,left_right=False)\n",
    "    plotting.show()\n",
    "else:\n",
    "    disp = plotting.plot_anat(featmask,cut_coords=arr1,draw_cross=False,annotate=False,black_bg=True,display_mode='x')\n",
    "    plotting.show()\n",
    "    # disp.annotate(size=25,left_right=False)\n",
    "    disp=plotting.plot_anat(featmask,cut_coords=arr2,draw_cross=False,annotate=False,black_bg=True,display_mode='x')\n",
    "    # disp.annotate(size=25,left_right=False)\n",
    "    plotting.show()"
   ]
  },
  {
   "cell_type": "markdown",
   "metadata": {},
   "source": [
    "Fake Image - Center cut slices Visualization"
   ]
  },
  {
   "cell_type": "code",
   "execution_count": null,
   "metadata": {
    "scrolled": false
   },
   "outputs": [],
   "source": [
    "noise = Variable(torch.randn((1, 1000)).cuda(gpu))\n",
    "# fake_image = G(noise)\n",
    "featmask = np.squeeze(fake_image[0].data.cpu().numpy())\n",
    "featmask = nib.Nifti1Image(featmask,affine = np.eye(4))\n",
    "plotting.plot_img(featmask,cut_coords=(32,32,32),draw_cross=False,annotate=False,black_bg=True)\n",
    "plotting.plot_anat(featmask,cut_coords=(32,32,32),draw_cross=False,annotate=False,black_bg=True)\n",
    "plotting.show()"
   ]
  },
  {
   "cell_type": "markdown",
   "metadata": {},
   "source": [
    "Real Image - Slice series visualization"
   ]
  },
  {
   "cell_type": "code",
   "execution_count": null,
   "metadata": {
    "scrolled": false
   },
   "outputs": [],
   "source": [
    "train_loader = torch.utils.data.DataLoader(trainset, batch_size=2, shuffle=True, num_workers=workers)\n",
    "\n",
    "Show_color = False\n",
    "\n",
    "image = gen_load.__next__()\n",
    "featmask = np.squeeze(image[0].data.cpu().numpy())\n",
    "featmask = nib.Nifti1Image(featmask,affine = np.eye(4))\n",
    "arr1 = [4,6,8,10,12,14,16,18,20,22,24,26,28,30,32]\n",
    "arr2 = [34,36,38,40,42,44,46,48,50,52,54,56,58,60]\n",
    "\n",
    "if Show_color:\n",
    "    disp = plotting.plot_img(featmask,cut_coords=arr1,draw_cross=False,annotate=False,black_bg=True,display_mode='x')\n",
    "    # disp.annotate(size=25,left_right=False,positions=True)\n",
    "    plotting.show()\n",
    "    disp=plotting.plot_img(featmask,cut_coords=arr2,draw_cross=False,annotate=False,black_bg=True,display_mode='x')\n",
    "    # disp.annotate(size=25,left_right=False)\n",
    "    plotting.show()\n",
    "else:\n",
    "    disp = plotting.plot_anat(featmask,cut_coords=arr1,draw_cross=False,annotate=False,black_bg=True,display_mode='x')\n",
    "    plotting.show()\n",
    "    # disp.annotate(size=25,left_right=False)\n",
    "    disp=plotting.plot_anat(featmask,cut_coords=arr2,draw_cross=False,annotate=False,black_bg=True,display_mode='x')\n",
    "    # disp.annotate(size=25,left_right=False)\n",
    "    plotting.show()"
   ]
  },
  {
   "cell_type": "markdown",
   "metadata": {},
   "source": [
    "# MS-SSIM Calculation"
   ]
  },
  {
   "cell_type": "code",
   "execution_count": null,
   "metadata": {
    "scrolled": false,
    "tags": []
   },
   "outputs": [],
   "source": [
    "G.load_state_dict(torch.load('./mmd_checkpoint/G_iter42000.pth'))\n",
    "sum_ssim = 0\n",
    "for i in range(1000):\n",
    "    noise = Variable(torch.randn((2, 1000)).cuda(gpu))\n",
    "    images = gen_load.__next__().cuda(gpu)\n",
    "#   images = G(noise)\n",
    "    img1 = images[0]\n",
    "    img2 = images[1]\n",
    "\n",
    "    msssim = pytorch_ssim.msssim_3d(img1,img2)\n",
    "    sum_ssim = sum_ssim+msssim\n",
    "    if i % 100 == 0:\n",
    "        print(sum_ssim/1000)\n",
    "print(f'final ssim: {sum_ssim/1000}')"
   ]
  },
  {
   "cell_type": "markdown",
   "metadata": {},
   "source": [
    "# MS-SSIM Curve"
   ]
  },
  {
   "cell_type": "code",
   "execution_count": null,
   "metadata": {
    "scrolled": true
   },
   "outputs": [
    {
     "name": "stdout",
     "output_type": "stream",
     "text": [
      "final ssim: 0.7942597270011902\n"
     ]
    }
   ],
   "source": [
    "ssim_pth = 'alpha_checkpoint_2'\n",
    "last_ind = read_ssim(path=ssim_pth)\n",
    "last_ind = 1000 if not last_ind else last_ind\n",
    "inds = [1000] + list(range(5000, 200001, 5000))\n",
    "for i in inds[inds.index(last_ind):]:\n",
    "#     G.load_state_dict(torch.load(f'./{ssim_pth}/G_VG_ep_{i}.pth'))\n",
    "    G.load_state_dict(torch.load(f'./{ssim_pth}/G_iter{i}.pth'))\n",
    "    calc_ssim(G, i, ssim_pth, no_write=False, gpu=gpu)"
   ]
  },
  {
   "cell_type": "code",
   "execution_count": null,
   "metadata": {},
   "outputs": [],
   "source": [
    "%debug"
   ]
  },
  {
   "cell_type": "markdown",
   "metadata": {},
   "source": [
    "# MS-SSIM for real images"
   ]
  },
  {
   "cell_type": "code",
   "execution_count": null,
   "metadata": {
    "scrolled": true
   },
   "outputs": [],
   "source": [
    "train_loader = torch.utils.data.DataLoader(trainset, batch_size=2, shuffle=True, num_workers=workers)\n",
    "test_loader = inf_train_gen(train_loader)\n",
    "\n",
    "i = 0\n",
    "sum_ssim = 0\n",
    "while i < 494:\n",
    "    img1, img2 = test_loader.__next__()\n",
    "    msssim = pytorch_ssim.msssim_3d(img1,img2)\n",
    "    sum_ssim = sum_ssim+msssim\n",
    "    i += 1\n",
    "    if i % 100 == 0:\n",
    "        print(i, sum_ssim/ (494 * 2))\n",
    "        \n",
    "train_loader = torch.utils.data.DataLoader(trainset, batch_size=2, shuffle=True, num_workers=workers)\n",
    "test_loader = inf_train_gen(train_loader)\n",
    "while i < 494 * 2:\n",
    "    img1, img2 = test_loader.__next__()\n",
    "    msssim = pytorch_ssim.msssim_3d(img1,img2)\n",
    "    sum_ssim = sum_ssim+msssim\n",
    "    i += 1\n",
    "    if i % 100 == 0:\n",
    "        print(i, sum_ssim/ (494 * 2))\n",
    "print(sum_ssim/(494 * 2))"
   ]
  },
  {
   "cell_type": "markdown",
   "metadata": {},
   "source": [
    "# Maximum-Mean Discrepancy Score"
   ]
  },
  {
   "cell_type": "markdown",
   "metadata": {},
   "source": [
    "### calculate averaged mmd score"
   ]
  },
  {
   "cell_type": "code",
   "execution_count": 5,
   "metadata": {
    "scrolled": false
   },
   "outputs": [
    {
     "name": "stdout",
     "output_type": "stream",
     "text": [
      "\n",
      "iteration: 1, count: 0, Mean: 0.7842476963996887, cost 55.530232429504395 seconds\n",
      "\n",
      "iteration: 1, count: 1, Mean: 0.7687905430793762, cost 58.035303831100464 seconds\n",
      "\n",
      "iteration: 1, count: 2, Mean: 0.7698780298233032, cost 56.5338568687439 seconds\n",
      "\n",
      "iteration: 1, count: 3, Mean: 0.7841787338256836, cost 56.777485847473145 seconds\n",
      "\n",
      "iteration: 1, count: 4, Mean: 0.7865100502967834, cost 58.50366926193237 seconds\n",
      "\n",
      "iteration: 1, count: 5, Mean: 0.7684059739112854, cost 54.519922971725464 seconds\n",
      "\n",
      "iteration: 1, count: 6, Mean: 0.781074583530426, cost 55.47571563720703 seconds\n",
      "\n",
      "iteration: 1, count: 7, Mean: 0.7803082466125488, cost 54.52713704109192 seconds\n",
      "\n",
      "iteration: 1, count: 8, Mean: 0.7784296274185181, cost 56.000510931015015 seconds\n",
      "\n",
      "iteration: 1, count: 9, Mean: 0.78813236951828, cost 54.571566581726074 seconds\n",
      "Total_mean:0.7789955854415893 STD:0.007072311540992829\n",
      "\n",
      "iteration: 10, count: 0, Mean: 0.7713686227798462, cost 54.54894995689392 seconds\n",
      "\n",
      "iteration: 10, count: 1, Mean: 0.7742938995361328, cost 54.313207387924194 seconds\n",
      "\n",
      "iteration: 10, count: 2, Mean: 0.7809056043624878, cost 54.46572518348694 seconds\n",
      "\n",
      "iteration: 10, count: 3, Mean: 0.775312066078186, cost 55.015021085739136 seconds\n",
      "\n",
      "iteration: 10, count: 4, Mean: 0.7725162506103516, cost 55.44545531272888 seconds\n",
      "\n",
      "iteration: 10, count: 5, Mean: 0.7759199142456055, cost 55.50699210166931 seconds\n",
      "\n",
      "iteration: 10, count: 6, Mean: 0.774225115776062, cost 55.637861013412476 seconds\n",
      "\n",
      "iteration: 10, count: 7, Mean: 0.7803946733474731, cost 53.62489438056946 seconds\n",
      "\n",
      "iteration: 10, count: 8, Mean: 0.7766685485839844, cost 54.42512392997742 seconds\n",
      "\n",
      "iteration: 10, count: 9, Mean: 0.7763534784317017, cost 54.56130123138428 seconds\n",
      "Total_mean:0.7757958173751831 STD:0.00289240265411943\n",
      "\n",
      "iteration: 100, count: 0, Mean: 0.7804886698722839, cost 53.859540700912476 seconds\n",
      "\n",
      "iteration: 100, count: 1, Mean: 0.7779356241226196, cost 54.03741979598999 seconds\n",
      "\n",
      "iteration: 100, count: 2, Mean: 0.7784610986709595, cost 53.57972168922424 seconds\n",
      "\n",
      "iteration: 100, count: 3, Mean: 0.7722403407096863, cost 55.01643991470337 seconds\n",
      "\n",
      "iteration: 100, count: 4, Mean: 0.7811663150787354, cost 54.95603919029236 seconds\n",
      "\n",
      "iteration: 100, count: 5, Mean: 0.7802484631538391, cost 55.07262468338013 seconds\n",
      "\n",
      "iteration: 100, count: 6, Mean: 0.7811558842658997, cost 55.2379195690155 seconds\n",
      "\n",
      "iteration: 100, count: 7, Mean: 0.7707934975624084, cost 54.56226181983948 seconds\n",
      "\n",
      "iteration: 1000, count: 0, Mean: 0.7803876996040344, cost 53.35809397697449 seconds\n",
      "\n",
      "iteration: 1000, count: 1, Mean: 0.779903769493103, cost 53.569015979766846 seconds\n",
      "\n",
      "iteration: 1000, count: 2, Mean: 0.7901962399482727, cost 53.834866762161255 seconds\n",
      "\n",
      "iteration: 1000, count: 3, Mean: 0.7687338590621948, cost 58.1089026927948 seconds\n",
      "\n",
      "iteration: 1000, count: 4, Mean: 0.7759591341018677, cost 56.8938262462616 seconds\n",
      "\n",
      "iteration: 1000, count: 5, Mean: 0.7654191255569458, cost 57.029760122299194 seconds\n",
      "\n",
      "iteration: 1000, count: 6, Mean: 0.7700146436691284, cost 58.70650887489319 seconds\n",
      "\n",
      "iteration: 1000, count: 7, Mean: 0.7845826148986816, cost 54.10816836357117 seconds\n",
      "\n",
      "iteration: 1000, count: 8, Mean: 0.7744004130363464, cost 53.56909775733948 seconds\n",
      "\n",
      "iteration: 1000, count: 9, Mean: 0.7895627021789551, cost 53.778005838394165 seconds\n",
      "Total_mean:0.777916020154953 STD:0.008124394969983021\n"
     ]
    }
   ],
   "source": [
    "mode = 'rbf'\n",
    "mmd_pth = 'wl_checkpoint'\n",
    "G.load_state_dict(torch.load(f'./{mmd_pth}/G_iter100000.pth')) \n",
    "for i in [1, 10, 100, 1000]:\n",
    "    calc_old_mmd(train_loader, G, i, count=10, mode=mode, gpu_ind=gpu, path=mmd_pth, no_write=False, z_r=i)"
   ]
  },
  {
   "cell_type": "markdown",
   "metadata": {},
   "source": [
    "### create mmd cruve"
   ]
  },
  {
   "cell_type": "code",
   "execution_count": null,
   "metadata": {
    "scrolled": false
   },
   "outputs": [],
   "source": [
    "mode ='rbf'\n",
    "mmd_pth = 'wl_checkpoint_mse_2'\n",
    "last_ind = int(read_mmd(mmd_pth, name=f'{mode}_mmd.csv'))\n",
    "end = 101000\n",
    "last_ind = last_ind * 1000 if 'vae' in mmd_pth else last_ind\n",
    "if not last_ind:\n",
    "    inds = [1000] + list(range(5000, end, 5000))\n",
    "elif last_ind == 1000:\n",
    "    inds = range(5000, end, 5000)\n",
    "else: \n",
    "    inds = range(last_ind + 5000, end, 5000)\n",
    "for i in inds:\n",
    "    i = int(i / 1000) if 'vae' in mmd_pth else i\n",
    "    G.load_state_dict(torch.load(f'./{mmd_pth}/G_iter{i}.pth'))\n",
    "#     G.load_state_dict(torch.load(f'./{mmd_pth}/G_VG_ep_{i}.pth'))\n",
    "    calc_mmd(train_loader, G, i, count=10, gpu_ind=gpu, mode=mode, path=mmd_pth, no_write=False)"
   ]
  },
  {
   "cell_type": "code",
   "execution_count": null,
   "metadata": {},
   "outputs": [],
   "source": [
    "%debug"
   ]
  },
  {
   "cell_type": "markdown",
   "metadata": {},
   "source": [
    "### visualize mmd curve"
   ]
  },
  {
   "cell_type": "code",
   "execution_count": null,
   "metadata": {
    "scrolled": true
   },
   "outputs": [],
   "source": [
    "df = load_csv('./trained/wl_gan_mmd.csv')\n",
    "plt.figure()\n",
    "df['mmd_score'].plot()"
   ]
  },
  {
   "cell_type": "markdown",
   "metadata": {},
   "source": [
    "### T-SNE Visualization"
   ]
  },
  {
   "cell_type": "code",
   "execution_count": 5,
   "metadata": {
    "scrolled": false
   },
   "outputs": [
    {
     "name": "stdout",
     "output_type": "stream",
     "text": [
      "index: 0.1, sample_mean (blue): -0.09138266742229462 sample_var: 0.02890031412243843, real_mean (yellow): -0.8584791421890259 real_var: 0.05652255192399025\n"
     ]
    },
    {
     "ename": "UnboundLocalError",
     "evalue": "local variable 'reals' referenced before assignment",
     "output_type": "error",
     "traceback": [
      "\u001b[0;31m---------------------------------------------------------------------------\u001b[0m",
      "\u001b[0;31mUnboundLocalError\u001b[0m                         Traceback (most recent call last)",
      "\u001b[0;32m<ipython-input-5-c1be9e90dc35>\u001b[0m in \u001b[0;36m<module>\u001b[0;34m\u001b[0m\n\u001b[1;32m      2\u001b[0m \u001b[0mE\u001b[0m\u001b[0;34m.\u001b[0m\u001b[0mload_state_dict\u001b[0m\u001b[0;34m(\u001b[0m\u001b[0mtorch\u001b[0m\u001b[0;34m.\u001b[0m\u001b[0mload\u001b[0m\u001b[0;34m(\u001b[0m\u001b[0;34mf'./{pca_pth}/E_iter100000.pth'\u001b[0m\u001b[0;34m)\u001b[0m\u001b[0;34m)\u001b[0m\u001b[0;34m\u001b[0m\u001b[0;34m\u001b[0m\u001b[0m\n\u001b[1;32m      3\u001b[0m \u001b[0;32mfor\u001b[0m \u001b[0mi\u001b[0m \u001b[0;32min\u001b[0m \u001b[0;34m[\u001b[0m\u001b[0;36m0.1\u001b[0m\u001b[0;34m,\u001b[0m \u001b[0;36m1\u001b[0m\u001b[0;34m,\u001b[0m \u001b[0;36m10\u001b[0m\u001b[0;34m,\u001b[0m \u001b[0;36m100\u001b[0m\u001b[0;34m,\u001b[0m \u001b[0;36m1000\u001b[0m\u001b[0;34m,\u001b[0m \u001b[0;36m5000\u001b[0m\u001b[0;34m,\u001b[0m \u001b[0;36m10000\u001b[0m\u001b[0;34m]\u001b[0m\u001b[0;34m:\u001b[0m\u001b[0;34m\u001b[0m\u001b[0;34m\u001b[0m\u001b[0m\n\u001b[0;32m----> 4\u001b[0;31m     \u001b[0mviz_pca_tsne\u001b[0m\u001b[0;34m(\u001b[0m\u001b[0mG\u001b[0m\u001b[0;34m,\u001b[0m \u001b[0mtrainset\u001b[0m\u001b[0;34m,\u001b[0m \u001b[0mindex\u001b[0m\u001b[0;34m=\u001b[0m\u001b[0mi\u001b[0m\u001b[0;34m,\u001b[0m \u001b[0mis_cd\u001b[0m\u001b[0;34m=\u001b[0m\u001b[0;32mFalse\u001b[0m\u001b[0;34m,\u001b[0m \u001b[0mis_tsne\u001b[0m\u001b[0;34m=\u001b[0m\u001b[0;32mTrue\u001b[0m\u001b[0;34m,\u001b[0m \u001b[0mlatent_size\u001b[0m\u001b[0;34m=\u001b[0m\u001b[0mlatent_dim\u001b[0m\u001b[0;34m,\u001b[0m \u001b[0mgpu_ind\u001b[0m\u001b[0;34m=\u001b[0m\u001b[0mgpu\u001b[0m\u001b[0;34m,\u001b[0m \u001b[0mperplexity\u001b[0m\u001b[0;34m=\u001b[0m\u001b[0;36m30\u001b[0m\u001b[0;34m,\u001b[0m \u001b[0mz_r\u001b[0m\u001b[0;34m=\u001b[0m\u001b[0;36m1\u001b[0m\u001b[0;34m)\u001b[0m\u001b[0;34m\u001b[0m\u001b[0;34m\u001b[0m\u001b[0m\n\u001b[0m",
      "\u001b[0;32m/projects/shibo/3dbraingen/utils/__init__.py\u001b[0m in \u001b[0;36mviz_pca_tsne\u001b[0;34m(model, trainset, batch_size, latent_size, is_tsne, is_cd, viz_fake, viz_real, index, z_r, gpu_ind, perplexity)\u001b[0m\n\u001b[1;32m    205\u001b[0m             \u001b[0mreals\u001b[0m \u001b[0;34m=\u001b[0m \u001b[0mStandardScaler\u001b[0m\u001b[0;34m(\u001b[0m\u001b[0;34m)\u001b[0m\u001b[0;34m.\u001b[0m\u001b[0mfit_transform\u001b[0m\u001b[0;34m(\u001b[0m\u001b[0mreal_df\u001b[0m\u001b[0;34m)\u001b[0m\u001b[0;34m\u001b[0m\u001b[0;34m\u001b[0m\u001b[0m\n\u001b[1;32m    206\u001b[0m             \u001b[0mreals\u001b[0m \u001b[0;34m=\u001b[0m \u001b[0mpca\u001b[0m\u001b[0;34m.\u001b[0m\u001b[0mfit_transform\u001b[0m\u001b[0;34m(\u001b[0m\u001b[0mreal_df\u001b[0m\u001b[0;34m)\u001b[0m\u001b[0;34m\u001b[0m\u001b[0;34m\u001b[0m\u001b[0m\n\u001b[0;32m--> 207\u001b[0;31m         \u001b[0mplt\u001b[0m\u001b[0;34m.\u001b[0m\u001b[0mscatter\u001b[0m\u001b[0;34m(\u001b[0m\u001b[0mreals\u001b[0m\u001b[0;34m[\u001b[0m\u001b[0;34m:\u001b[0m\u001b[0;34m,\u001b[0m \u001b[0;36m0\u001b[0m\u001b[0;34m]\u001b[0m\u001b[0;34m,\u001b[0m \u001b[0mreals\u001b[0m\u001b[0;34m[\u001b[0m\u001b[0;34m:\u001b[0m\u001b[0;34m,\u001b[0m \u001b[0;36m1\u001b[0m\u001b[0;34m]\u001b[0m\u001b[0;34m)\u001b[0m\u001b[0;34m\u001b[0m\u001b[0;34m\u001b[0m\u001b[0m\n\u001b[0m\u001b[1;32m    208\u001b[0m     \u001b[0mplt\u001b[0m\u001b[0;34m.\u001b[0m\u001b[0mshow\u001b[0m\u001b[0;34m(\u001b[0m\u001b[0;34m)\u001b[0m\u001b[0;34m\u001b[0m\u001b[0;34m\u001b[0m\u001b[0m\n\u001b[1;32m    209\u001b[0m \u001b[0;34m\u001b[0m\u001b[0m\n",
      "\u001b[0;31mUnboundLocalError\u001b[0m: local variable 'reals' referenced before assignment"
     ]
    },
    {
     "data": {
      "image/png": "[encoded data removed]",
      "text/plain": [
       "<Figure size 432x288 with 1 Axes>"
      ]
     },
     "metadata": {
      "needs_background": "light"
     },
     "output_type": "display_data"
    }
   ],
   "source": [
    "pca_pth = 'alpha_checkpoint'\n",
    "E.load_state_dict(torch.load(f'./{pca_pth}/E_iter100000.pth'))\n",
    "for i in [0.1, 1, 10, 100, 1000, 5000, 10000]:\n",
    "    start = time.time()\n",
    "    viz_pca_tsne(G, trainset, index=i, is_cd=False, is_tsne=True, latent_size=latent_dim, gpu_ind=gpu, perplexity=30, z_r=1)\n",
    "    print(f'time cost: {time.time() - start}'hh,km)"
   ]
  },
  {
   "cell_type": "code",
   "execution_count": null,
   "metadata": {
    "scrolled": false
   },
   "outputs": [
    {
     "name": "stdout",
     "output_type": "stream",
     "text": [
      "> \u001b[0;32m/projects/shibo/3dbraingen/utils/tsne_torch.py\u001b[0m(122)\u001b[0;36mpca_torch\u001b[0;34m()\u001b[0m\n",
      "\u001b[0;32m    120 \u001b[0;31m    \u001b[0;32mfor\u001b[0m \u001b[0mi\u001b[0m \u001b[0;32min\u001b[0m \u001b[0mrange\u001b[0m\u001b[0;34m(\u001b[0m\u001b[0md\u001b[0m\u001b[0;34m)\u001b[0m\u001b[0;34m:\u001b[0m\u001b[0;34m\u001b[0m\u001b[0;34m\u001b[0m\u001b[0m\n",
      "\u001b[0m\u001b[0;32m    121 \u001b[0;31m        \u001b[0;32mif\u001b[0m \u001b[0ml\u001b[0m\u001b[0;34m[\u001b[0m\u001b[0mi\u001b[0m\u001b[0;34m,\u001b[0m \u001b[0;36m1\u001b[0m\u001b[0;34m]\u001b[0m \u001b[0;34m!=\u001b[0m \u001b[0;36m0\u001b[0m\u001b[0;34m:\u001b[0m\u001b[0;34m\u001b[0m\u001b[0;34m\u001b[0m\u001b[0m\n",
      "\u001b[0m\u001b[0;32m--> 122 \u001b[0;31m            \u001b[0mM\u001b[0m\u001b[0;34m[\u001b[0m\u001b[0;34m:\u001b[0m\u001b[0;34m,\u001b[0m \u001b[0mi\u001b[0m\u001b[0;34m+\u001b[0m\u001b[0;36m1\u001b[0m\u001b[0;34m]\u001b[0m \u001b[0;34m=\u001b[0m \u001b[0mM\u001b[0m\u001b[0;34m[\u001b[0m\u001b[0;34m:\u001b[0m\u001b[0;34m,\u001b[0m \u001b[0mi\u001b[0m\u001b[0;34m]\u001b[0m\u001b[0;34m\u001b[0m\u001b[0;34m\u001b[0m\u001b[0m\n",
      "\u001b[0m\u001b[0;32m    123 \u001b[0;31m            \u001b[0mi\u001b[0m \u001b[0;34m+=\u001b[0m \u001b[0;36m1\u001b[0m\u001b[0;34m\u001b[0m\u001b[0;34m\u001b[0m\u001b[0m\n",
      "\u001b[0m\u001b[0;32m    124 \u001b[0;31m\u001b[0;34m\u001b[0m\u001b[0m\n",
      "\u001b[0m\n",
      "ipdb> u\n",
      "> \u001b[0;32m/projects/shibo/3dbraingen/utils/tsne_torch.py\u001b[0m(146)\u001b[0;36mtsne\u001b[0;34m()\u001b[0m\n",
      "\u001b[0;32m    144 \u001b[0;31m\u001b[0;34m\u001b[0m\u001b[0m\n",
      "\u001b[0m\u001b[0;32m    145 \u001b[0;31m    \u001b[0;31m# Initialize variables\u001b[0m\u001b[0;34m\u001b[0m\u001b[0;34m\u001b[0m\u001b[0;34m\u001b[0m\u001b[0m\n",
      "\u001b[0m\u001b[0;32m--> 146 \u001b[0;31m    \u001b[0mX\u001b[0m \u001b[0;34m=\u001b[0m \u001b[0mpca_torch\u001b[0m\u001b[0;34m(\u001b[0m\u001b[0mX\u001b[0m\u001b[0;34m.\u001b[0m\u001b[0mcuda\u001b[0m\u001b[0;34m(\u001b[0m\u001b[0mgpu\u001b[0m\u001b[0;34m)\u001b[0m\u001b[0;34m,\u001b[0m \u001b[0minitial_dims\u001b[0m\u001b[0;34m)\u001b[0m\u001b[0;34m\u001b[0m\u001b[0;34m\u001b[0m\u001b[0m\n",
      "\u001b[0m\u001b[0;32m    147 \u001b[0;31m    \u001b[0;34m(\u001b[0m\u001b[0mn\u001b[0m\u001b[0;34m,\u001b[0m \u001b[0md\u001b[0m\u001b[0;34m)\u001b[0m \u001b[0;34m=\u001b[0m \u001b[0mX\u001b[0m\u001b[0;34m.\u001b[0m\u001b[0mshape\u001b[0m\u001b[0;34m\u001b[0m\u001b[0;34m\u001b[0m\u001b[0m\n",
      "\u001b[0m\u001b[0;32m    148 \u001b[0;31m    \u001b[0mmax_iter\u001b[0m \u001b[0;34m=\u001b[0m \u001b[0;36m1000\u001b[0m\u001b[0;34m\u001b[0m\u001b[0;34m\u001b[0m\u001b[0m\n",
      "\u001b[0m\n",
      "ipdb> u\n",
      "> \u001b[0;32m/projects/shibo/3dbraingen/utils/__init__.py\u001b[0m(200)\u001b[0;36mviz_pca_tsne\u001b[0;34m()\u001b[0m\n",
      "\u001b[0;32m    198 \u001b[0;31m        \u001b[0;32mif\u001b[0m \u001b[0mis_tsne\u001b[0m\u001b[0;34m:\u001b[0m\u001b[0;34m\u001b[0m\u001b[0;34m\u001b[0m\u001b[0m\n",
      "\u001b[0m\u001b[0;32m    199 \u001b[0;31m            \u001b[0mreals\u001b[0m \u001b[0;34m=\u001b[0m \u001b[0mtorch\u001b[0m\u001b[0;34m.\u001b[0m\u001b[0mTensor\u001b[0m\u001b[0;34m(\u001b[0m\u001b[0mreal_df\u001b[0m\u001b[0;34m.\u001b[0m\u001b[0mvalues\u001b[0m\u001b[0;34m)\u001b[0m\u001b[0;34m.\u001b[0m\u001b[0mcuda\u001b[0m\u001b[0;34m(\u001b[0m\u001b[0mgpu_ind\u001b[0m\u001b[0;34m)\u001b[0m\u001b[0;34m\u001b[0m\u001b[0;34m\u001b[0m\u001b[0m\n",
      "\u001b[0m\u001b[0;32m--> 200 \u001b[0;31m            \u001b[0mreals\u001b[0m \u001b[0;34m=\u001b[0m \u001b[0mtsne\u001b[0m\u001b[0;34m(\u001b[0m\u001b[0mreals\u001b[0m\u001b[0;34m,\u001b[0m \u001b[0;36m2\u001b[0m\u001b[0;34m,\u001b[0m \u001b[0mreals\u001b[0m\u001b[0;34m.\u001b[0m\u001b[0mshape\u001b[0m\u001b[0;34m[\u001b[0m\u001b[0;36m1\u001b[0m\u001b[0;34m]\u001b[0m\u001b[0;34m,\u001b[0m \u001b[0;36m20\u001b[0m\u001b[0;34m,\u001b[0m \u001b[0mgpu_ind\u001b[0m\u001b[0;34m=\u001b[0m\u001b[0mgpu_ind\u001b[0m\u001b[0;34m)\u001b[0m\u001b[0;34m.\u001b[0m\u001b[0mcpu\u001b[0m\u001b[0;34m(\u001b[0m\u001b[0;34m)\u001b[0m\u001b[0;34m\u001b[0m\u001b[0;34m\u001b[0m\u001b[0m\n",
      "\u001b[0m\u001b[0;32m    201 \u001b[0;31m        \u001b[0;32melse\u001b[0m\u001b[0;34m:\u001b[0m\u001b[0;34m\u001b[0m\u001b[0;34m\u001b[0m\u001b[0m\n",
      "\u001b[0m\u001b[0;32m    202 \u001b[0;31m            \u001b[0mreals\u001b[0m \u001b[0;34m=\u001b[0m \u001b[0mStandardScaler\u001b[0m\u001b[0;34m(\u001b[0m\u001b[0;34m)\u001b[0m\u001b[0;34m.\u001b[0m\u001b[0mfit_transform\u001b[0m\u001b[0;34m(\u001b[0m\u001b[0mreal_df\u001b[0m\u001b[0;34m)\u001b[0m\u001b[0;34m\u001b[0m\u001b[0;34m\u001b[0m\u001b[0m\n",
      "\u001b[0m\n",
      "ipdb> reals.shape\n",
      "torch.Size([512, 1000])\n",
      "ipdb> fakes.shape\n",
      "torch.Size([512, 2])\n",
      "ipdb> sample_df.values.shape\n",
      "(512, 1000)\n",
      "ipdb> real_df.values.shape\n",
      "(512, 1000)\n",
      "ipdb> d\n",
      "> \u001b[0;32m/projects/shibo/3dbraingen/utils/tsne_torch.py\u001b[0m(146)\u001b[0;36mtsne\u001b[0;34m()\u001b[0m\n",
      "\u001b[0;32m    144 \u001b[0;31m\u001b[0;34m\u001b[0m\u001b[0m\n",
      "\u001b[0m\u001b[0;32m    145 \u001b[0;31m    \u001b[0;31m# Initialize variables\u001b[0m\u001b[0;34m\u001b[0m\u001b[0;34m\u001b[0m\u001b[0;34m\u001b[0m\u001b[0m\n",
      "\u001b[0m\u001b[0;32m--> 146 \u001b[0;31m    \u001b[0mX\u001b[0m \u001b[0;34m=\u001b[0m \u001b[0mpca_torch\u001b[0m\u001b[0;34m(\u001b[0m\u001b[0mX\u001b[0m\u001b[0;34m.\u001b[0m\u001b[0mcuda\u001b[0m\u001b[0;34m(\u001b[0m\u001b[0mgpu\u001b[0m\u001b[0;34m)\u001b[0m\u001b[0;34m,\u001b[0m \u001b[0minitial_dims\u001b[0m\u001b[0;34m)\u001b[0m\u001b[0;34m\u001b[0m\u001b[0;34m\u001b[0m\u001b[0m\n",
      "\u001b[0m\u001b[0;32m    147 \u001b[0;31m    \u001b[0;34m(\u001b[0m\u001b[0mn\u001b[0m\u001b[0;34m,\u001b[0m \u001b[0md\u001b[0m\u001b[0;34m)\u001b[0m \u001b[0;34m=\u001b[0m \u001b[0mX\u001b[0m\u001b[0;34m.\u001b[0m\u001b[0mshape\u001b[0m\u001b[0;34m\u001b[0m\u001b[0;34m\u001b[0m\u001b[0m\n",
      "\u001b[0m\u001b[0;32m    148 \u001b[0;31m    \u001b[0mmax_iter\u001b[0m \u001b[0;34m=\u001b[0m \u001b[0;36m1000\u001b[0m\u001b[0;34m\u001b[0m\u001b[0;34m\u001b[0m\u001b[0m\n",
      "\u001b[0m\n",
      "ipdb> d\n",
      "> \u001b[0;32m/projects/shibo/3dbraingen/utils/tsne_torch.py\u001b[0m(122)\u001b[0;36mpca_torch\u001b[0;34m()\u001b[0m\n",
      "\u001b[0;32m    120 \u001b[0;31m    \u001b[0;32mfor\u001b[0m \u001b[0mi\u001b[0m \u001b[0;32min\u001b[0m \u001b[0mrange\u001b[0m\u001b[0;34m(\u001b[0m\u001b[0md\u001b[0m\u001b[0;34m)\u001b[0m\u001b[0;34m:\u001b[0m\u001b[0;34m\u001b[0m\u001b[0;34m\u001b[0m\u001b[0m\n",
      "\u001b[0m\u001b[0;32m    121 \u001b[0;31m        \u001b[0;32mif\u001b[0m \u001b[0ml\u001b[0m\u001b[0;34m[\u001b[0m\u001b[0mi\u001b[0m\u001b[0;34m,\u001b[0m \u001b[0;36m1\u001b[0m\u001b[0;34m]\u001b[0m \u001b[0;34m!=\u001b[0m \u001b[0;36m0\u001b[0m\u001b[0;34m:\u001b[0m\u001b[0;34m\u001b[0m\u001b[0;34m\u001b[0m\u001b[0m\n",
      "\u001b[0m\u001b[0;32m--> 122 \u001b[0;31m            \u001b[0mM\u001b[0m\u001b[0;34m[\u001b[0m\u001b[0;34m:\u001b[0m\u001b[0;34m,\u001b[0m \u001b[0mi\u001b[0m\u001b[0;34m+\u001b[0m\u001b[0;36m1\u001b[0m\u001b[0;34m]\u001b[0m \u001b[0;34m=\u001b[0m \u001b[0mM\u001b[0m\u001b[0;34m[\u001b[0m\u001b[0;34m:\u001b[0m\u001b[0;34m,\u001b[0m \u001b[0mi\u001b[0m\u001b[0;34m]\u001b[0m\u001b[0;34m\u001b[0m\u001b[0;34m\u001b[0m\u001b[0m\n",
      "\u001b[0m\u001b[0;32m    123 \u001b[0;31m            \u001b[0mi\u001b[0m \u001b[0;34m+=\u001b[0m \u001b[0;36m1\u001b[0m\u001b[0;34m\u001b[0m\u001b[0;34m\u001b[0m\u001b[0m\n",
      "\u001b[0m\u001b[0;32m    124 \u001b[0;31m\u001b[0;34m\u001b[0m\u001b[0m\n",
      "\u001b[0m\n",
      "ipdb> d\n",
      "*** Newest frame\n",
      "ipdb> !d\n",
      "1000\n",
      "ipdb> i\n",
      "999\n",
      "ipdb> l\n",
      "\u001b[1;32m    117 \u001b[0m\u001b[0;34m\u001b[0m\u001b[0m\n",
      "\u001b[1;32m    118 \u001b[0m    \u001b[0;34m(\u001b[0m\u001b[0ml\u001b[0m\u001b[0;34m,\u001b[0m \u001b[0mM\u001b[0m\u001b[0;34m)\u001b[0m \u001b[0;34m=\u001b[0m \u001b[0mtorch\u001b[0m\u001b[0;34m.\u001b[0m\u001b[0meig\u001b[0m\u001b[0;34m(\u001b[0m\u001b[0mtorch\u001b[0m\u001b[0;34m.\u001b[0m\u001b[0mmm\u001b[0m\u001b[0;34m(\u001b[0m\u001b[0mX\u001b[0m\u001b[0;34m.\u001b[0m\u001b[0mt\u001b[0m\u001b[0;34m(\u001b[0m\u001b[0;34m)\u001b[0m\u001b[0;34m,\u001b[0m \u001b[0mX\u001b[0m\u001b[0;34m)\u001b[0m\u001b[0;34m,\u001b[0m \u001b[0;32mTrue\u001b[0m\u001b[0;34m)\u001b[0m\u001b[0;34m\u001b[0m\u001b[0;34m\u001b[0m\u001b[0m\n",
      "\u001b[1;32m    119 \u001b[0m    \u001b[0;31m# split M real\u001b[0m\u001b[0;34m\u001b[0m\u001b[0;34m\u001b[0m\u001b[0;34m\u001b[0m\u001b[0m\n",
      "\u001b[1;32m    120 \u001b[0m    \u001b[0;32mfor\u001b[0m \u001b[0mi\u001b[0m \u001b[0;32min\u001b[0m \u001b[0mrange\u001b[0m\u001b[0;34m(\u001b[0m\u001b[0md\u001b[0m\u001b[0;34m)\u001b[0m\u001b[0;34m:\u001b[0m\u001b[0;34m\u001b[0m\u001b[0;34m\u001b[0m\u001b[0m\n",
      "\u001b[1;32m    121 \u001b[0m        \u001b[0;32mif\u001b[0m \u001b[0ml\u001b[0m\u001b[0;34m[\u001b[0m\u001b[0mi\u001b[0m\u001b[0;34m,\u001b[0m \u001b[0;36m1\u001b[0m\u001b[0;34m]\u001b[0m \u001b[0;34m!=\u001b[0m \u001b[0;36m0\u001b[0m\u001b[0;34m:\u001b[0m\u001b[0;34m\u001b[0m\u001b[0;34m\u001b[0m\u001b[0m\n",
      "\u001b[0;32m--> 122 \u001b[0;31m            \u001b[0mM\u001b[0m\u001b[0;34m[\u001b[0m\u001b[0;34m:\u001b[0m\u001b[0;34m,\u001b[0m \u001b[0mi\u001b[0m\u001b[0;34m+\u001b[0m\u001b[0;36m1\u001b[0m\u001b[0;34m]\u001b[0m \u001b[0;34m=\u001b[0m \u001b[0mM\u001b[0m\u001b[0;34m[\u001b[0m\u001b[0;34m:\u001b[0m\u001b[0;34m,\u001b[0m \u001b[0mi\u001b[0m\u001b[0;34m]\u001b[0m\u001b[0;34m\u001b[0m\u001b[0;34m\u001b[0m\u001b[0m\n",
      "\u001b[0m\u001b[1;32m    123 \u001b[0m            \u001b[0mi\u001b[0m \u001b[0;34m+=\u001b[0m \u001b[0;36m1\u001b[0m\u001b[0;34m\u001b[0m\u001b[0;34m\u001b[0m\u001b[0m\n",
      "\u001b[1;32m    124 \u001b[0m\u001b[0;34m\u001b[0m\u001b[0m\n",
      "\u001b[1;32m    125 \u001b[0m    \u001b[0mY\u001b[0m \u001b[0;34m=\u001b[0m \u001b[0mtorch\u001b[0m\u001b[0;34m.\u001b[0m\u001b[0mmm\u001b[0m\u001b[0;34m(\u001b[0m\u001b[0mX\u001b[0m\u001b[0;34m,\u001b[0m \u001b[0mM\u001b[0m\u001b[0;34m[\u001b[0m\u001b[0;34m:\u001b[0m\u001b[0;34m,\u001b[0m \u001b[0;36m0\u001b[0m\u001b[0;34m:\u001b[0m\u001b[0mno_dims\u001b[0m\u001b[0;34m]\u001b[0m\u001b[0;34m)\u001b[0m\u001b[0;34m\u001b[0m\u001b[0;34m\u001b[0m\u001b[0m\n",
      "\u001b[1;32m    126 \u001b[0m    \u001b[0;32mreturn\u001b[0m \u001b[0mY\u001b[0m\u001b[0;34m\u001b[0m\u001b[0;34m\u001b[0m\u001b[0m\n",
      "\u001b[1;32m    127 \u001b[0m\u001b[0;34m\u001b[0m\u001b[0m\n",
      "\n"
     ]
    }
   ],
   "source": [
    "%debug"
   ]
  },
  {
   "cell_type": "markdown",
   "metadata": {},
   "source": [
    "### X PCA Visualization"
   ]
  },
  {
   "cell_type": "code",
   "execution_count": null,
   "metadata": {},
   "outputs": [],
   "source": [
    "pca_pth = 'wl_checkpoint'\n",
    "for i in range(100000, 0, -5000):\n",
    "# for i in range(122, -1, -10):\n",
    "    G.load_state_dict(torch.load(f'./{pca_pth}/G_iter{i}.pth'))\n",
    "    viz_pca_tsne(G, trainset, latent_size=latent_dim, gpu_ind=gpu)"
   ]
  },
  {
   "cell_type": "code",
   "execution_count": null,
   "metadata": {
    "scrolled": false
   },
   "outputs": [],
   "source": [
    "def show_pca_cluster(x, PC_list, interval=3):\n",
    "    for i in range(x, x+interval):\n",
    "        sample_ind = PC_list[i][2]\n",
    "        feat = sample_df.iloc[int(sample_ind)].to_numpy().reshape((64, 64, 64))\n",
    "        featmask = nib.Nifti1Image(feat,affine = np.eye(4))\n",
    "        plotting.plot_img(featmask, title=f'x_val: {round(PC_list[i][0], 2)} y_val: {round(PC_list[i][1], 2)} sample_index: {int(sample_ind)}')\n",
    "        plotting.show()\n",
    "\n",
    "# concatenate the sample index \n",
    "PC_list = list(np.concatenate((PCs, np.array([i for i in range(512)]).reshape(512, 1)), 1))\n",
    "# sort by x or y of PCAs\n",
    "PC_list.sort(key=lambda x: x[1])\n",
    "\n",
    "# for i in range(0, 512, 60):\n",
    "#     show_pca_cluster(i, PC_list, 1)\n",
    "\n",
    "show_pca_cluster(0, PC_list, 10)\n",
    "\n"
   ]
  },
  {
   "cell_type": "markdown",
   "metadata": {},
   "source": [
    "### visualize all training images"
   ]
  },
  {
   "cell_type": "code",
   "execution_count": null,
   "metadata": {
    "scrolled": false
   },
   "outputs": [],
   "source": [
    "viz_all_imgs('../../ADNI', [0])"
   ]
  },
  {
   "cell_type": "markdown",
   "metadata": {},
   "source": [
    "### loss check"
   ]
  },
  {
   "cell_type": "code",
   "execution_count": null,
   "metadata": {
    "scrolled": false
   },
   "outputs": [],
   "source": [
    "loss_df = load_loss(path='wl_checkpoint_2')\n",
    "# print(loss_df)\n",
    "# alpha_wgan\n",
    "plt.figure(figsize=(400, 400))\n",
    "loss_df[['loss2','gp_h','gp_r',]].plot() \n",
    "loss_df[['loss1','l1_loss','d_recon','d_fake','d_real','d_loss',]].plot()\n",
    "loss_df[['d_recon','d_fake','l1_loss']].plot()\n",
    "# vae_gan\n",
    "# loss_df[['d_real_loss', 'd_fake', 'd_recon', 'err_enc']].plot() \n",
    "\n",
    "# plt.figure()\n",
    "# # loss_df[['loss1', 'mmd_loss']].plot()\n",
    "# plt.figure()\n",
    "# loss_df[['gp_r', 'gp_h', 'l1_loss']].plot()"
   ]
  },
  {
   "cell_type": "code",
   "execution_count": null,
   "metadata": {},
   "outputs": [],
   "source": [
    "%debug"
   ]
  },
  {
   "cell_type": "markdown",
   "metadata": {},
   "source": [
    "### Z space pca"
   ]
  },
  {
   "cell_type": "code",
   "execution_count": 37,
   "metadata": {},
   "outputs": [
    {
     "data": {
      "text/plain": [
       "<Figure size 432x288 with 0 Axes>"
      ]
     },
     "metadata": {},
     "output_type": "display_data"
    },
    {
     "data": {
      "image/png": "[encoded data removed]",
      "text/plain": [
       "<Figure size 432x288 with 1 Axes>"
      ]
     },
     "metadata": {
      "needs_background": "light"
     },
     "output_type": "display_data"
    },
    {
     "name": "stdout",
     "output_type": "stream",
     "text": [
      "index: 100000, sample_mean: -0.32138165831565857 sample_var: 175.22509765625, yellow_mean: -0.0006970876129344106 yellow_var: 1.0010371208190918\n"
     ]
    },
    {
     "data": {
      "image/png": "[encoded data removed]",
      "text/plain": [
       "<Figure size 432x288 with 1 Axes>"
      ]
     },
     "metadata": {
      "needs_background": "light"
     },
     "output_type": "display_data"
    }
   ],
   "source": [
    "E.load_state_dict(torch.load(f'./wl_checkpoint_mse/E_iter100000.pth'))\n",
    "for i in [1, 10, 100, 1000]:\n",
    "    viz_pca(E, trainset, latent_size=latent_dim, index=100000, is_cd=True, gpu_ind=gpu)"
   ]
  },
  {
   "cell_type": "code",
   "execution_count": 30,
   "metadata": {},
   "outputs": [
    {
     "name": "stdout",
     "output_type": "stream",
     "text": [
      "> \u001b[0;32m/usr/local/miniconda3/lib/python3.7/site-packages/torch/nn/modules/conv.py\u001b[0m(448)\u001b[0;36mforward\u001b[0;34m()\u001b[0m\n",
      "\u001b[0;32m    446 \u001b[0;31m    \u001b[0;32mdef\u001b[0m \u001b[0mforward\u001b[0m\u001b[0;34m(\u001b[0m\u001b[0mself\u001b[0m\u001b[0;34m,\u001b[0m \u001b[0minput\u001b[0m\u001b[0;34m)\u001b[0m\u001b[0;34m:\u001b[0m\u001b[0;34m\u001b[0m\u001b[0;34m\u001b[0m\u001b[0m\n",
      "\u001b[0m\u001b[0;32m    447 \u001b[0;31m        return F.conv3d(input, self.weight, self.bias, self.stride,\n",
      "\u001b[0m\u001b[0;32m--> 448 \u001b[0;31m                        self.padding, self.dilation, self.groups)\n",
      "\u001b[0m\u001b[0;32m    449 \u001b[0;31m\u001b[0;34m\u001b[0m\u001b[0m\n",
      "\u001b[0m\u001b[0;32m    450 \u001b[0;31m\u001b[0;34m\u001b[0m\u001b[0m\n",
      "\u001b[0m\n",
      "ipdb> exirt\n",
      "*** NameError: name 'exirt' is not defined\n",
      "ipdb> exit\n"
     ]
    }
   ],
   "source": [
    "%debug"
   ]
  },
  {
   "cell_type": "code",
   "execution_count": null,
   "metadata": {
    "scrolled": false
   },
   "outputs": [],
   "source": [
    "# for VAEGAN\n",
    "for i in range(100, -1, -10):\n",
    "    E.load_state_dict(torch.load(f'./vae_checkpoint_1/E_VG_ep_{i}.pth'))\n",
    "    viz_pca(E, trainset, latent_size=latent_dim, index=i, is_cd=True, gpu_ind=gpu, batch_size=1)"
   ]
  },
  {
   "cell_type": "code",
   "execution_count": null,
   "metadata": {
    "scrolled": false
   },
   "outputs": [],
   "source": [
    "# for AlphaWGAN\n",
    "for i in range(42000, 0, -2000):\n",
    "    E.load_state_dict(torch.load(f'./wl_checkpoint/E_iter{i}.pth'))\n",
    "    viz_pca(E, trainset, latent_size=latent_dim, index=i, is_cd=True, gpu_ind=gpu)"
   ]
  },
  {
   "cell_type": "markdown",
   "metadata": {},
   "source": [
    "### delete CD and D"
   ]
  },
  {
   "cell_type": "code",
   "execution_count": null,
   "metadata": {},
   "outputs": [],
   "source": []
  },
  {
   "cell_type": "markdown",
   "metadata": {},
   "source": [
    "# Calculate the paddings of fake images"
   ]
  },
  {
   "cell_type": "code",
   "execution_count": null,
   "metadata": {
    "scrolled": false
   },
   "outputs": [],
   "source": [
    "G = Generator(noise=1000).cuda(gpu)\n",
    "G.load_state_dict(torch.load('./trained/G_iter12500.pth'))\n",
    "\n",
    "def get_padding(feat, axis=0):\n",
    "    feat = np.swapaxes(feat, 0, axis)\n",
    "    output = [0, 0]\n",
    "    for i in range(feat.shape[0]):\n",
    "#         print(feat[i].sum())\n",
    "        if feat[i].sum() > -4000:\n",
    "            output[0] = i\n",
    "            break\n",
    "    for i in range(feat.shape[0] - 1, -1, -1):\n",
    "        if feat[i].sum() > -4000:\n",
    "            output[1] = feat.shape[0] - i - 1\n",
    "            break\n",
    "    return output\n",
    "    \n",
    "for i in range(512):\n",
    "    noise = torch.rand((1, 1000)).cuda(gpu)\n",
    "    img = G(noise)\n",
    "    featmask = np.squeeze((0.5*img+0.5).detach().cpu().numpy())\n",
    "    print(f'ind: {i} padding 0-axis: {get_padding(featmask, 0)}', end=' ')\n",
    "    print(f'ind: {i} padding 1-axis: {get_padding(featmask, 1)}', end=' ')\n",
    "    print(f'ind: {i} padding 2-axis: {get_padding(featmask, 2)}')\n",
    "#     featmask = nib.Nifti1Image(featmask,affine = np.eye(4))\n",
    "#     plotting.plot_img(featmask, title=f'ind: {i}')\n",
    "#     plotting.show()"
   ]
  },
  {
   "cell_type": "markdown",
   "metadata": {},
   "source": [
    "### intensity range check"
   ]
  },
  {
   "cell_type": "code",
   "execution_count": null,
   "metadata": {
    "scrolled": true
   },
   "outputs": [],
   "source": [
    "trainset = ADNIdataset(augmentation=True, img_size=64, normalization=False)\n",
    "train_loader = torch.utils.data.DataLoader(trainset,batch_size=BATCH_SIZE,\n",
    "                                          shuffle=True,num_workers=workers)\n",
    "for featmask in inf_train_gen(train_loader):\n",
    "#     noise = torch.rand((1, 1000)).cuda()\n",
    "#     featmask= G(noise)\n",
    "#     featmask = np.squeeze((0.5*featmask+0.5).detach().cpu().numpy())\n",
    "    lo, hi = featmask.min(), featmask.max()\n",
    "    print(f'lo: {lo} hi: {hi}')\n",
    "#     featmask = nib.Nifti1Image(featmask,affine = np.eye(4))\n",
    "#     plotting.plot_img(featmask, title=f'ind: {i}')\n",
    "#     plotting.show()\n",
    "    "
   ]
  },
  {
   "cell_type": "code",
   "execution_count": null,
   "metadata": {
    "scrolled": false
   },
   "outputs": [],
   "source": [
    "%debug"
   ]
  },
  {
   "cell_type": "code",
   "execution_count": null,
   "metadata": {
    "scrolled": false
   },
   "outputs": [],
   "source": [
    "from utils import sinkhorn_pointcloud as sp\n",
    "import numpy as np\n",
    "import torch\n",
    "from ipdb import set_trace\n",
    "from torch import optim\n",
    "from torch.autograd import Variable\n",
    "\n",
    "gpu=1\n",
    "a = Variable(torch.randn((1000, 4)).cuda(gpu), requires_grad=True)\n",
    "b = Variable(torch.randn((1000, 4)).cuda(gpu) * 0.01, requires_grad=True) \n",
    "g_optimizer = optim.Adam([a, b], lr=0.0002)\n",
    "print(a.shape, b.shape)\n",
    "for i in range(1000):\n",
    "    g_optimizer.zero_grad()\n",
    "    w_dist = sp.sinkhorn_loss(a, b, 0.1, 1000, 100, gpu=gpu)\n",
    "    w_dist.backward()\n",
    "    g_optimizer.step()\n",
    "    \n",
    "    if i % 100 == 0:\n",
    "        print(w_dist)"
   ]
  },
  {
   "cell_type": "code",
   "execution_count": null,
   "metadata": {},
   "outputs": [],
   "source": [
    "a = torch.randn((1, 5), requires_grad=True)\n",
    "c = a * 2\n",
    "c.requires_grad = True;\n",
    "b = c.sum()\n",
    "b.backward()\n",
    "print(a.grad)\n",
    "print(c.grad)\n",
    "print(b.grad)\n"
   ]
  },
  {
   "cell_type": "code",
   "execution_count": null,
   "metadata": {},
   "outputs": [],
   "source": []
  }
 ],
 "metadata": {
  "kernelspec": {
   "display_name": "Python 3",
   "language": "python",
   "name": "python3"
  },
  "language_info": {
   "codemirror_mode": {
    "name": "ipython",
    "version": 3
   },
   "file_extension": ".py",
   "mimetype": "text/x-python",
   "name": "python",
   "nbconvert_exporter": "python",
   "pygments_lexer": "ipython3",
   "version": "3.7.6"
  },
  "varInspector": {
   "cols": {
    "lenName": 16,
    "lenType": 16,
    "lenVar": 40
   },
   "kernels_config": {
    "python": {
     "delete_cmd_postfix": "",
     "delete_cmd_prefix": "del ",
     "library": "var_list.py",
     "varRefreshCmd": "print(var_dic_list())"
    },
    "r": {
     "delete_cmd_postfix": ") ",
     "delete_cmd_prefix": "rm(",
     "library": "var_list.r",
     "varRefreshCmd": "cat(var_dic_list()) "
    }
   },
   "types_to_exclude": [
    "module",
    "function",
    "builtin_function_or_method",
    "instance",
    "_Feature"
   ],
   "window_display": false
  }
 },
 "nbformat": 4,
 "nbformat_minor": 2
}
