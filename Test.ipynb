{
 "cells": [
  {
   "cell_type": "code",
   "execution_count": null,
   "metadata": {
    "scrolled": true,
    "tags": []
   },
   "outputs": [],
   "source": [
    "%pylab inline\n",
    "import numpy as np\n",
    "import torch\n",
    "import os\n",
    "import pandas as pd\n",
    "\n",
    "from torch import nn\n",
    "from torch import optim\n",
    "from torch.nn import functional as F\n",
    "from torch import autograd\n",
    "from torch.autograd import Variable\n",
    "import nibabel as nib\n",
    "from torch.utils.data.dataset import Dataset\n",
    "from torch.utils.data import dataloader\n",
    "\n",
    "import matplotlib.pyplot as plt\n",
    "from sklearn.decomposition import PCA\n",
    "from sklearn.preprocessing import StandardScaler\n",
    "from nilearn import plotting\n",
    "from ADNI_dataset import *\n",
    "from BRATS_dataset import *\n",
    "from ATLAS_dataset import *\n",
    "from utils import *\n",
    "\n",
    "import pytorch_ssim\n",
    "from ipdb import set_trace"
   ]
  },
  {
   "cell_type": "markdown",
   "metadata": {},
   "source": [
    "# Configuration"
   ]
  },
  {
   "cell_type": "code",
   "execution_count": null,
   "metadata": {
    "scrolled": true
   },
   "outputs": [],
   "source": [
    "# used to store the MMD ans MS-SSIM\n",
    "try:\n",
    "    os.mkdir('./test_data')\n",
    "except FileExistsError:\n",
    "    pass\n",
    "gpu = True\n",
    "workers = 4\n",
    "BATCH_SIZE = 8\n",
    "latent_dim = 1000\n",
    "\n",
    "Use_BRATS = False\n",
    "Use_ATLAS = False"
   ]
  },
  {
   "cell_type": "code",
   "execution_count": null,
   "metadata": {
    "scrolled": false
   },
   "outputs": [],
   "source": [
    "trainset = ADNIdataset(augmentation=True)\n",
    "train_loader = torch.utils.data.DataLoader(trainset,batch_size=BATCH_SIZE,\n",
    "                                          shuffle=True,num_workers=workers)\n",
    "#'flair' or 't2' or 't1ce'\n",
    "# trainset = BRATSdataset(imgtype='flair')\n",
    "# train_loader = torch.utils.data.DataLoader(trainset,batch_size = BATCH_SIZE, shuffle=True,\n",
    "#                                                num_workers=workers)\n",
    "\n",
    "# trainset = ATLASdataset(augmentation=True)\n",
    "# train_loader = torch.utils.data.DataLoader(trainset,batch_size=BATCH_SIZE,\n",
    "#                                           shuffle=True,num_workers=workers)\n",
    "\n",
    "def inf_train_gen(data_loader):\n",
    "    while True:\n",
    "        for _,images in enumerate(data_loader):\n",
    "            yield images\n",
    "gen_load = inf_train_gen(train_loader)"
   ]
  },
  {
   "cell_type": "markdown",
   "metadata": {},
   "source": [
    "## Pre-trained Generator Load"
   ]
  },
  {
   "cell_type": "code",
   "execution_count": null,
   "metadata": {
    "scrolled": true
   },
   "outputs": [],
   "source": [
    "#-------------------------------------------\n",
    "#Choose the Model you want!\n",
    "from Model_alphaWGAN import Generator\n",
    "from Model_alphaWGAN import Discriminator\n",
    "# from Model_alphaGAN import Generator\n",
    "# from Model_VAEGAN import Generator\n",
    "# from Model_WGAN import Generator\n",
    "#-------------------------------------------\n",
    "\n",
    "G = Generator(noise=1000).cuda()\n",
    "# E = Discriminator(out_class = latent_dim, is_dis=False)\n",
    "#-----------------------\n",
    "#Load Pre-trained model\n",
    "#-----------------------\n",
    "\n",
    "#------------Trained Model of ADNI dataset---------------------\n",
    "G.load_state_dict(torch.load('./trained/G_cyclomon.pth')) # Alpha-WGAN-GP\n",
    "# E.load_state_dict(torch.load('./trained/E_iter12500.pth')) # Alpha-WGAN-GP Encoder\n",
    "# G.load_state_dict(torch.load('./trained/G_VG_iter24552.pth')) #VAE-GAN\n",
    "# G.load_state_dict(torch.load('./checkpoint/Alpha_G.pth')) #Alpha-GAN\n",
    "# G.load_state_dict(torch.load('./checkpoint/G_W_iter3000.pth')) #WGAN-GP\n",
    "\n",
    "#------------Trained Model of ATLAS dataset---------------------\n",
    "# G.load_state_dict(torch.load('./checkpoint/Ours_at_G.pth'))\n",
    "\n",
    "#------------Trained Models of BRATS dataset---------------------\n",
    "# G.load_state_dict(torch.load('./checkpoint/Ours_fl_G.pth'))\n",
    "# G.load_state_dict(torch.load('./checkpoint/Ours_t2_G.pth'))"
   ]
  },
  {
   "cell_type": "markdown",
   "metadata": {},
   "source": [
    "Fake Image - slice series visualization\n",
    "\n",
    "You can change the axis (x , y , z ) by changing  display_mode = 'x' / 'y' / 'z'"
   ]
  },
  {
   "cell_type": "code",
   "execution_count": null,
   "metadata": {
    "scrolled": true
   },
   "outputs": [],
   "source": [
    "Show_color = False\n",
    "\n",
    "noise = torch.randn(1, 1000).cuda()\n",
    "fake_image = G(noise)\n",
    "featmask = np.squeeze(fake_image[0].data.cpu().numpy())\n",
    "featmask = nib.Nifti1Image(featmask,affine = np.eye(4))\n",
    "\n",
    "arr1 = [4,6,8,10,12,14,16,18,20,22,24,26,28,30,32]\n",
    "arr2 = [34,36,38,40,42,44,46,48,50,52,54,56,58,60]\n",
    "if Show_color:\n",
    "    disp = plotting.plot_img(featmask,cut_coords=arr1,draw_cross=False,annotate=False,black_bg=True,display_mode='x')\n",
    "    # disp.annotate(size=25,left_right=False,positions=True)\n",
    "    plotting.show()\n",
    "    disp=plotting.plot_img(featmask,cut_coords=arr2,draw_cross=False,annotate=False,black_bg=True,display_mode='x')\n",
    "    # disp.annotate(size=25,left_right=False)\n",
    "    plotting.show()\n",
    "else:\n",
    "    disp = plotting.plot_anat(featmask,cut_coords=arr1,draw_cross=False,annotate=False,black_bg=True,display_mode='x')\n",
    "    plotting.show()\n",
    "    # disp.annotate(size=25,left_right=False)\n",
    "    disp=plotting.plot_anat(featmask,cut_coords=arr2,draw_cross=False,annotate=False,black_bg=True,display_mode='x')\n",
    "    # disp.annotate(size=25,left_right=False)\n",
    "    plotting.show()"
   ]
  },
  {
   "cell_type": "markdown",
   "metadata": {},
   "source": [
    "Fake Image - Center cut slices Visualization"
   ]
  },
  {
   "cell_type": "code",
   "execution_count": null,
   "metadata": {
    "scrolled": true
   },
   "outputs": [],
   "source": [
    "noise = Variable(torch.randn((1, 1000)).cuda())\n",
    "# fake_image = G(noise)\n",
    "featmask = np.squeeze(fake_image[0].data.cpu().numpy())\n",
    "featmask = nib.Nifti1Image(featmask,affine = np.eye(4))\n",
    "plotting.plot_img(featmask,cut_coords=(32,32,32),draw_cross=False,annotate=False,black_bg=True)\n",
    "plotting.plot_anat(featmask,cut_coords=(32,32,32),draw_cross=False,annotate=False,black_bg=True)\n",
    "plotting.show()"
   ]
  },
  {
   "cell_type": "markdown",
   "metadata": {},
   "source": [
    "Real Image - Slice series visualization"
   ]
  },
  {
   "cell_type": "code",
   "execution_count": null,
   "metadata": {
    "scrolled": true
   },
   "outputs": [],
   "source": [
    "train_loader = torch.utils.data.DataLoader(trainset, batch_size=2, shuffle=True, num_workers=workers)\n",
    "gen_load = inf_train_gen(train_loader)\n",
    "\n",
    "Show_color = False\n",
    "\n",
    "image = gen_load.__next__()\n",
    "featmask = np.squeeze(image[0].data.cpu().numpy())\n",
    "featmask = nib.Nifti1Image(featmask,affine = np.eye(4))\n",
    "arr1 = [4,6,8,10,12,14,16,18,20,22,24,26,28,30,32]\n",
    "arr2 = [34,36,38,40,42,44,46,48,50,52,54,56,58,60]\n",
    "\n",
    "if Show_color:\n",
    "    disp = plotting.plot_img(featmask,cut_coords=arr1,draw_cross=False,annotate=False,black_bg=True,display_mode='x')\n",
    "    # disp.annotate(size=25,left_right=False,positions=True)\n",
    "    plotting.show()\n",
    "    disp=plotting.plot_img(featmask,cut_coords=arr2,draw_cross=False,annotate=False,black_bg=True,display_mode='x')\n",
    "    # disp.annotate(size=25,left_right=False)\n",
    "    plotting.show()\n",
    "else:\n",
    "    disp = plotting.plot_anat(featmask,cut_coords=arr1,draw_cross=False,annotate=False,black_bg=True,display_mode='x')\n",
    "    plotting.show()\n",
    "    # disp.annotate(size=25,left_right=False)\n",
    "    disp=plotting.plot_anat(featmask,cut_coords=arr2,draw_cross=False,annotate=False,black_bg=True,display_mode='x')\n",
    "    # disp.annotate(size=25,left_right=False)\n",
    "    plotting.show()"
   ]
  },
  {
   "cell_type": "markdown",
   "metadata": {},
   "source": [
    "# MS-SSIM Calculation"
   ]
  },
  {
   "cell_type": "code",
   "execution_count": null,
   "metadata": {
    "scrolled": false,
    "tags": []
   },
   "outputs": [],
   "source": [
    "# sum_ssim = 0\n",
    "# for k in range(20):\n",
    "#     for i,dat in enumerate(train_loader):\n",
    "#         if len(dat)!=2:\n",
    "#             break\n",
    "#         img1 = dat[0]\n",
    "#         img2 = dat[1]\n",
    "\n",
    "#         msssim = pytorch_ssim.msssim_3d(img1,img2)\n",
    "#         sum_ssim = sum_ssim+msssim\n",
    "#     print(sum_ssim/((k+1)*(i+1)))"
   ]
  },
  {
   "cell_type": "code",
   "execution_count": null,
   "metadata": {
    "scrolled": true,
    "tags": []
   },
   "outputs": [],
   "source": [
    "sum_ssim = 0\n",
    "for i in range(1000):\n",
    "    noise = Variable(torch.randn((2, 1000)).cuda())\n",
    "    fake_image = G(noise)\n",
    "\n",
    "    img1 = fake_image[0]\n",
    "    img2 = fake_image[1]\n",
    "\n",
    "    msssim = pytorch_ssim.msssim_3d(img1,img2)\n",
    "    sum_ssim = sum_ssim+msssim\n",
    "    if i % 100 == 0:\n",
    "        print(sum_ssim/1000)\n",
    "print(sum_ssim/1000)"
   ]
  },
  {
   "cell_type": "markdown",
   "metadata": {},
   "source": [
    "# MS-SSIM for real images"
   ]
  },
  {
   "cell_type": "code",
   "execution_count": null,
   "metadata": {
    "scrolled": false
   },
   "outputs": [],
   "source": [
    "train_loader = torch.utils.data.DataLoader(trainset, batch_size=2, shuffle=True, num_workers=workers)\n",
    "test_loader = inf_train_gen(train_loader)\n",
    "i = 0\n",
    "sum_ssim = 0\n",
    "while i < 494:\n",
    "    img1, img2 = test_loader.__next__()\n",
    "    msssim = pytorch_ssim.msssim_3d(img1,img2)\n",
    "    sum_ssim = sum_ssim+msssim\n",
    "    i += 1\n",
    "    if i % 100 == 0:\n",
    "        print(i, sum_ssim/ (494 * 2))\n",
    "        \n",
    "train_loader = torch.utils.data.DataLoader(trainset, batch_size=2, shuffle=True, num_workers=workers)\n",
    "test_loader = inf_train_gen(train_loader)\n",
    "while i < 494 * 2:\n",
    "    img1, img2 = test_loader.__next__()\n",
    "    msssim = pytorch_ssim.msssim_3d(img1,img2)\n",
    "    sum_ssim = sum_ssim+msssim\n",
    "    i += 1\n",
    "    if i % 100 == 0:\n",
    "        print(i, sum_ssim/ (494 * 2))\n",
    "print(sum_ssim/(494 * 2))"
   ]
  },
  {
   "cell_type": "markdown",
   "metadata": {},
   "source": [
    "# Maximum-Mean Discrepancy Score"
   ]
  },
  {
   "cell_type": "code",
   "execution_count": null,
   "metadata": {
    "scrolled": true,
    "tags": []
   },
   "outputs": [],
   "source": [
    "# read csv if exists\n",
    "if os.path.exists('./test_data/mmd.csv'):\n",
    "    # get the latest index\n",
    "    df = pd.read_csv('./test_data/mmd.csv')\n",
    "    start = int(df.iloc[-1]['index'])\n",
    "else:\n",
    "    df = pd.DataFrame({'index': [], 'mmd_score': []})\n",
    "    start = 0 \n",
    "\n",
    "for p in G.parameters():\n",
    "    p.requires_grad = False\n",
    "for s in range(start, 100):\n",
    "    distmean = 0.0\n",
    "    for i,(y) in enumerate(train_loader):\n",
    "        y = Variable(y).cuda()\n",
    "        noise = Variable(torch.randn((y.size(0), 1000)).cuda())\n",
    "        x = G(noise)\n",
    "        B = y.size(0)\n",
    "        x = x.view(x.size(0), x.size(2) * x.size(3)*x.size(4))\n",
    "        y = y.view(y.size(0), y.size(2) * y.size(3)*y.size(4))\n",
    "\n",
    "        xx, yy, zz = torch.mm(x,x.t()), torch.mm(y,y.t()), torch.mm(x,y.t())\n",
    "\n",
    "        beta = (1./(B*B))\n",
    "        gamma = (2./(B*B)) \n",
    "\n",
    "        Dist = beta * (torch.sum(xx)+torch.sum(yy)) - gamma * torch.sum(zz)\n",
    "        distmean += Dist\n",
    "\n",
    "    mean = (distmean/(i+1)).item()\n",
    "    print(f'\\nCount: {s} Mean: {mean}')\n",
    "    # write scores to csv\n",
    "    df = df.append(pd.DataFrame({\n",
    "        'index': [s],\n",
    "        'mmd_score': [mean]\n",
    "    }))\n",
    "    df.to_csv('./test_data/mmd.csv', index=False)\n",
    "\n",
    "meanarr = numpy.array(df.iloc[:]['mmd_score'].tolist())\n",
    "print('Total_mean:'+str(np.mean(meanarr))+' STD:'+str(np.std(meanarr)))"
   ]
  },
  {
   "cell_type": "markdown",
   "metadata": {},
   "source": [
    "### calculate mmd"
   ]
  },
  {
   "cell_type": "code",
   "execution_count": null,
   "metadata": {
    "scrolled": false
   },
   "outputs": [],
   "source": [
    "df = pd.read_csv('./test_data/mmd.csv')\n",
    "mmds = np.array(df.iloc[:]['mmd_score'].to_list())\n",
    "mmds.mean()"
   ]
  },
  {
   "cell_type": "markdown",
   "metadata": {},
   "source": [
    "### visualize loss"
   ]
  },
  {
   "cell_type": "code",
   "execution_count": null,
   "metadata": {
    "scrolled": true
   },
   "outputs": [],
   "source": [
    "df = pd.read_csv('./trained/VAE_loss.csv')\n",
    "y_arr = df.iloc[:]['loss:'].to_list()\n",
    "x_arr = [i * 248 for i in range(len(y_arr))]\n",
    "plt.xlabel('iteration')\n",
    "plt.ylabel('loss')\n",
    "plt.plot(x_arr, y_arr)\n",
    "plt.show()"
   ]
  },
  {
   "cell_type": "code",
   "execution_count": null,
   "metadata": {
    "scrolled": true
   },
   "outputs": [],
   "source": [
    "ind_arr = df.iloc[:]['index'].to_list()\n",
    "[(ind_arr[i], x_arr[i]) for i in range(len(ind_arr))]"
   ]
  },
  {
   "cell_type": "markdown",
   "metadata": {},
   "source": [
    "### Images PCA Visualization"
   ]
  },
  {
   "cell_type": "code",
   "execution_count": null,
   "metadata": {
    "scrolled": true
   },
   "outputs": [],
   "source": [
    "sample_df = pd.DataFrame()\n",
    "real_df = pd.DataFrame()\n",
    "\n",
    "train_loader = torch.utils.data.DataLoader(trainset, batch_size=1, shuffle=True, num_workers=workers)\n",
    "gen_load = inf_train_gen(train_loader)\n",
    "\n",
    "for s in range(512):\n",
    "    noise = torch.randn((1, 1000)).cuda()\n",
    "    fake = np.squeeze(G(noise)).view(1, -1)\n",
    "    sample_df = sample_df.append(pd.DataFrame(fake.cpu().detach().numpy()))\n",
    "    \n",
    "    real = np.squeeze(gen_load.__next__()).view(1, -1)\n",
    "    real_df = real_df.append(pd.DataFrame(real.cpu().detach().numpy()))\n",
    "    print(s, end=' ')\n",
    "    \n",
    "# distribution of fake images\n",
    "pca = PCA(n_components=2)\n",
    "samples = StandardScaler().fit_transform(sample_df)\n",
    "PCs = pca.fit_transform(sample_df)\n",
    "plt.scatter(PCs[:, 0], PCs[:, 1])\n",
    "\n",
    "# distribution of real images\n",
    "reals = StandardScaler().fit_transform(real_df)\n",
    "real_PCs = pca.fit_transform(real_df)\n",
    "plt.scatter(real_PCs[:, 0], real_PCs[:, 1])\n",
    "\n",
    "plt.show()"
   ]
  },
  {
   "cell_type": "code",
   "execution_count": null,
   "metadata": {
    "scrolled": true
   },
   "outputs": [],
   "source": [
    "def show_pca_cluster(x, PC_list, interval=3):\n",
    "    for i in range(x, x+interval):\n",
    "        sample_ind = PC_list[i][2]\n",
    "        feat = sample_df.iloc[int(sample_ind)].to_numpy().reshape((64, 64, 64))\n",
    "        featmask = nib.Nifti1Image(feat,affine = np.eye(4))\n",
    "        plotting.plot_img(featmask, title=f'x_val: {round(PC_list[i][0], 2)} y_val: {round(PC_list[i][1], 2)} sample_index: {int(sample_ind)}')\n",
    "        plotting.show()\n",
    "\n",
    "# concatenate the sample index \n",
    "PC_list = list(np.concatenate((PCs, np.array([i for i in range(512)]).reshape(512, 1)), 1))\n",
    "# sort by x or y of PCAs\n",
    "PC_list.sort(key=lambda x: x[1])\n",
    "\n",
    "# for i in range(0, 512, 60):\n",
    "#     show_pca_cluster(i, PC_list, 1)\n",
    "\n",
    "show_pca_cluster(0, PC_list, 10)\n",
    "\n"
   ]
  },
  {
   "cell_type": "markdown",
   "metadata": {},
   "source": [
    "### visualize all training images"
   ]
  },
  {
   "cell_type": "code",
   "execution_count": null,
   "metadata": {
    "scrolled": true
   },
   "outputs": [],
   "source": [
    "viz_all_imgs('../../ADNI', [0])"
   ]
  },
  {
   "cell_type": "markdown",
   "metadata": {},
   "source": [
    "### Calculate the paddings of fake images"
   ]
  },
  {
   "cell_type": "code",
   "execution_count": null,
   "metadata": {
    "scrolled": true
   },
   "outputs": [],
   "source": [
    "G = Generator(noise=1000).cuda()\n",
    "G.load_state_dict(torch.load('./trained/G_iter12500.pth'))\n",
    "\n",
    "def get_padding(feat, axis=0):\n",
    "    feat = np.swapaxes(feat, 0, axis)\n",
    "    output = [0, 0]\n",
    "    for i in range(feat.shape[0]):\n",
    "#         print(feat[i].sum())\n",
    "        if feat[i].sum() > -4000:\n",
    "            output[0] = i\n",
    "            break\n",
    "    for i in range(feat.shape[0] - 1, -1, -1):\n",
    "        if feat[i].sum() > -4000:\n",
    "            output[1] = feat.shape[0] - i - 1\n",
    "            break\n",
    "    return output\n",
    "    \n",
    "for i in range(512):\n",
    "    noise = torch.rand((1, 1000)).cuda()\n",
    "    img = G(noise)\n",
    "    featmask = np.squeeze((0.5*img+0.5).detach().cpu().numpy())\n",
    "    print(f'ind: {i} padding 0-axis: {get_padding(featmask, 0)}', end=' ')\n",
    "    print(f'ind: {i} padding 1-axis: {get_padding(featmask, 1)}', end=' ')\n",
    "    print(f'ind: {i} padding 2-axis: {get_padding(featmask, 2)}')\n",
    "#     featmask = nib.Nifti1Image(featmask,affine = np.eye(4))\n",
    "#     plotting.plot_img(featmask, title=f'ind: {i}')\n",
    "#     plotting.show()"
   ]
  },
  {
   "cell_type": "markdown",
   "metadata": {},
   "source": [
    "### intensity range check"
   ]
  },
  {
   "cell_type": "code",
   "execution_count": null,
   "metadata": {
    "scrolled": false
   },
   "outputs": [],
   "source": [
    "trainset = ADNIdataset(augmentation=True, img_size=64, normalization=False)\n",
    "train_loader = torch.utils.data.DataLoader(trainset,batch_size=BATCH_SIZE,\n",
    "                                          shuffle=True,num_workers=workers)\n",
    "for featmask in inf_train_gen(train_loader):\n",
    "#     noise = torch.rand((1, 1000)).cuda()\n",
    "#     featmask= G(noise)\n",
    "#     featmask = np.squeeze((0.5*featmask+0.5).detach().cpu().numpy())\n",
    "    lo, hi = featmask.min(), featmask.max()\n",
    "    print(f'lo: {lo} hi: {hi}')\n",
    "#     featmask = nib.Nifti1Image(featmask,affine = np.eye(4))\n",
    "#     plotting.plot_img(featmask, title=f'ind: {i}')\n",
    "#     plotting.show()\n",
    "    "
   ]
  },
  {
   "cell_type": "code",
   "execution_count": null,
   "metadata": {
    "scrolled": true
   },
   "outputs": [],
   "source": []
  }
 ],
 "metadata": {
  "kernelspec": {
   "display_name": "Python 3",
   "language": "python",
   "name": "python3"
  },
  "language_info": {
   "codemirror_mode": {
    "name": "ipython",
    "version": 3
   },
   "file_extension": ".py",
   "mimetype": "text/x-python",
   "name": "python",
   "nbconvert_exporter": "python",
   "pygments_lexer": "ipython3",
   "version": "3.7.6"
  },
  "varInspector": {
   "cols": {
    "lenName": 16,
    "lenType": 16,
    "lenVar": 40
   },
   "kernels_config": {
    "python": {
     "delete_cmd_postfix": "",
     "delete_cmd_prefix": "del ",
     "library": "var_list.py",
     "varRefreshCmd": "print(var_dic_list())"
    },
    "r": {
     "delete_cmd_postfix": ") ",
     "delete_cmd_prefix": "rm(",
     "library": "var_list.r",
     "varRefreshCmd": "cat(var_dic_list()) "
    }
   },
   "types_to_exclude": [
    "module",
    "function",
    "builtin_function_or_method",
    "instance",
    "_Feature"
   ],
   "window_display": false
  }
 },
 "nbformat": 4,
 "nbformat_minor": 2
}
